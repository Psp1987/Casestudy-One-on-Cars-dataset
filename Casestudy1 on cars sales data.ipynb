{
 "cells": [
  {
   "cell_type": "markdown",
   "id": "193010c5",
   "metadata": {},
   "source": [
    "# CaseStudy1 on Car dataset"
   ]
  },
  {
   "cell_type": "code",
   "execution_count": 1,
   "id": "b62cdc30",
   "metadata": {},
   "outputs": [],
   "source": [
    "import pandas as pd\n",
    "import numpy as np\n",
    "import matplotlib.pyplot as plt\n",
    "import seaborn as sns"
   ]
  },
  {
   "cell_type": "markdown",
   "id": "88295417",
   "metadata": {},
   "source": [
    "# 1.Read the dataset to the python environment."
   ]
  },
  {
   "cell_type": "code",
   "execution_count": 2,
   "id": "d0feebd7",
   "metadata": {},
   "outputs": [],
   "source": [
    "data=pd.read_csv(r\"C:\\Users\\pspra\\Documents\\Data Science and Analytics\\Case study 1\\cars_data.csv\")"
   ]
  },
  {
   "cell_type": "code",
   "execution_count": 3,
   "id": "2ffced6e",
   "metadata": {},
   "outputs": [
    {
     "data": {
      "text/html": [
       "<div>\n",
       "<style scoped>\n",
       "    .dataframe tbody tr th:only-of-type {\n",
       "        vertical-align: middle;\n",
       "    }\n",
       "\n",
       "    .dataframe tbody tr th {\n",
       "        vertical-align: top;\n",
       "    }\n",
       "\n",
       "    .dataframe thead th {\n",
       "        text-align: right;\n",
       "    }\n",
       "</style>\n",
       "<table border=\"1\" class=\"dataframe\">\n",
       "  <thead>\n",
       "    <tr style=\"text-align: right;\">\n",
       "      <th></th>\n",
       "      <th>Make</th>\n",
       "      <th>Model</th>\n",
       "      <th>Nickname</th>\n",
       "      <th>Car Gender</th>\n",
       "      <th>Buyer Gender</th>\n",
       "      <th>Buyer Age</th>\n",
       "      <th>Buzzword</th>\n",
       "      <th>Country</th>\n",
       "      <th>City</th>\n",
       "      <th>Dealer Latitude</th>\n",
       "      <th>Dealer Longitude</th>\n",
       "      <th>Color</th>\n",
       "      <th>New Car</th>\n",
       "      <th>Purchase Date</th>\n",
       "      <th>Sale Price</th>\n",
       "      <th>Discount</th>\n",
       "      <th>Resell Price</th>\n",
       "      <th>5-yr Depreciation</th>\n",
       "      <th>Top Speed</th>\n",
       "      <th>0-60 Time</th>\n",
       "    </tr>\n",
       "  </thead>\n",
       "  <tbody>\n",
       "    <tr>\n",
       "      <th>0</th>\n",
       "      <td>Suzuki</td>\n",
       "      <td>Vitara</td>\n",
       "      <td>Philippine</td>\n",
       "      <td>Female</td>\n",
       "      <td>Female</td>\n",
       "      <td>51</td>\n",
       "      <td>User-friendly</td>\n",
       "      <td>Belgium</td>\n",
       "      <td>Antwerpen</td>\n",
       "      <td>51.247239</td>\n",
       "      <td>4.440346</td>\n",
       "      <td>Yellow</td>\n",
       "      <td>False</td>\n",
       "      <td>19/07/2009</td>\n",
       "      <td>54806.14</td>\n",
       "      <td>0.2467</td>\n",
       "      <td>33858.32</td>\n",
       "      <td>0.13</td>\n",
       "      <td>200.9</td>\n",
       "      <td>11.5</td>\n",
       "    </tr>\n",
       "    <tr>\n",
       "      <th>1</th>\n",
       "      <td>Honda</td>\n",
       "      <td>S2000</td>\n",
       "      <td>Henrik</td>\n",
       "      <td>Male</td>\n",
       "      <td>Male</td>\n",
       "      <td>30</td>\n",
       "      <td>analyzing</td>\n",
       "      <td>China</td>\n",
       "      <td>Jinhu</td>\n",
       "      <td>33.025433</td>\n",
       "      <td>119.020584</td>\n",
       "      <td>Crimson</td>\n",
       "      <td>False</td>\n",
       "      <td>26/10/2015</td>\n",
       "      <td>51826.30</td>\n",
       "      <td>0.3147</td>\n",
       "      <td>2989.28</td>\n",
       "      <td>0.02</td>\n",
       "      <td>158.5</td>\n",
       "      <td>8.8</td>\n",
       "    </tr>\n",
       "    <tr>\n",
       "      <th>2</th>\n",
       "      <td>BMW</td>\n",
       "      <td>Z4</td>\n",
       "      <td>Lebbie</td>\n",
       "      <td>Male</td>\n",
       "      <td>Female</td>\n",
       "      <td>54</td>\n",
       "      <td>software</td>\n",
       "      <td>China</td>\n",
       "      <td>Gemo</td>\n",
       "      <td>30.916207</td>\n",
       "      <td>121.677640</td>\n",
       "      <td>Khaki</td>\n",
       "      <td>False</td>\n",
       "      <td>28/03/2010</td>\n",
       "      <td>82929.14</td>\n",
       "      <td>0.5414</td>\n",
       "      <td>35049.16</td>\n",
       "      <td>0.24</td>\n",
       "      <td>149.5</td>\n",
       "      <td>14.4</td>\n",
       "    </tr>\n",
       "    <tr>\n",
       "      <th>3</th>\n",
       "      <td>Toyota</td>\n",
       "      <td>Tacoma</td>\n",
       "      <td>Jefferey</td>\n",
       "      <td>Female</td>\n",
       "      <td>Male</td>\n",
       "      <td>68</td>\n",
       "      <td>monitoring</td>\n",
       "      <td>Portugal</td>\n",
       "      <td>Queluz de Baixo</td>\n",
       "      <td>38.745168</td>\n",
       "      <td>-9.267087</td>\n",
       "      <td>Puce</td>\n",
       "      <td>False</td>\n",
       "      <td>07/05/2008</td>\n",
       "      <td>56928.66</td>\n",
       "      <td>0.0850</td>\n",
       "      <td>8236.15</td>\n",
       "      <td>0.20</td>\n",
       "      <td>153.3</td>\n",
       "      <td>11.5</td>\n",
       "    </tr>\n",
       "    <tr>\n",
       "      <th>4</th>\n",
       "      <td>Ford</td>\n",
       "      <td>Festiva</td>\n",
       "      <td>Glendon</td>\n",
       "      <td>Female</td>\n",
       "      <td>Male</td>\n",
       "      <td>70</td>\n",
       "      <td>Sharable</td>\n",
       "      <td>Latvia</td>\n",
       "      <td>Jaunpils</td>\n",
       "      <td>56.729980</td>\n",
       "      <td>23.016588</td>\n",
       "      <td>Yellow</td>\n",
       "      <td>False</td>\n",
       "      <td>01/06/2008</td>\n",
       "      <td>77201.26</td>\n",
       "      <td>0.1642</td>\n",
       "      <td>32765.76</td>\n",
       "      <td>0.18</td>\n",
       "      <td>122.0</td>\n",
       "      <td>14.9</td>\n",
       "    </tr>\n",
       "  </tbody>\n",
       "</table>\n",
       "</div>"
      ],
      "text/plain": [
       "     Make    Model    Nickname Car Gender Buyer Gender  Buyer Age  \\\n",
       "0  Suzuki   Vitara  Philippine     Female       Female         51   \n",
       "1   Honda    S2000      Henrik       Male         Male         30   \n",
       "2     BMW       Z4      Lebbie       Male       Female         54   \n",
       "3  Toyota   Tacoma    Jefferey     Female         Male         68   \n",
       "4    Ford  Festiva     Glendon     Female         Male         70   \n",
       "\n",
       "        Buzzword   Country             City  Dealer Latitude  \\\n",
       "0  User-friendly   Belgium        Antwerpen        51.247239   \n",
       "1      analyzing     China            Jinhu        33.025433   \n",
       "2       software     China             Gemo        30.916207   \n",
       "3     monitoring  Portugal  Queluz de Baixo        38.745168   \n",
       "4       Sharable    Latvia         Jaunpils        56.729980   \n",
       "\n",
       "   Dealer Longitude    Color  New Car Purchase Date  Sale Price  Discount  \\\n",
       "0          4.440346   Yellow    False    19/07/2009    54806.14    0.2467   \n",
       "1        119.020584  Crimson    False    26/10/2015    51826.30    0.3147   \n",
       "2        121.677640    Khaki    False    28/03/2010    82929.14    0.5414   \n",
       "3         -9.267087     Puce    False    07/05/2008    56928.66    0.0850   \n",
       "4         23.016588   Yellow    False    01/06/2008    77201.26    0.1642   \n",
       "\n",
       "   Resell Price  5-yr Depreciation  Top Speed  0-60 Time  \n",
       "0      33858.32               0.13      200.9       11.5  \n",
       "1       2989.28               0.02      158.5        8.8  \n",
       "2      35049.16               0.24      149.5       14.4  \n",
       "3       8236.15               0.20      153.3       11.5  \n",
       "4      32765.76               0.18      122.0       14.9  "
      ]
     },
     "execution_count": 3,
     "metadata": {},
     "output_type": "execute_result"
    }
   ],
   "source": [
    "data.head()\n"
   ]
  },
  {
   "cell_type": "markdown",
   "id": "ae31e764",
   "metadata": {},
   "source": [
    "# 2. Check for the null values present in the dataset. "
   ]
  },
  {
   "cell_type": "code",
   "execution_count": 4,
   "id": "d9e74e87",
   "metadata": {},
   "outputs": [
    {
     "name": "stdout",
     "output_type": "stream",
     "text": [
      "<class 'pandas.core.frame.DataFrame'>\n",
      "RangeIndex: 10000 entries, 0 to 9999\n",
      "Data columns (total 20 columns):\n",
      " #   Column             Non-Null Count  Dtype  \n",
      "---  ------             --------------  -----  \n",
      " 0   Make               10000 non-null  object \n",
      " 1   Model              10000 non-null  object \n",
      " 2   Nickname           10000 non-null  object \n",
      " 3   Car Gender         10000 non-null  object \n",
      " 4   Buyer Gender       10000 non-null  object \n",
      " 5   Buyer Age          10000 non-null  int64  \n",
      " 6   Buzzword           10000 non-null  object \n",
      " 7   Country            10000 non-null  object \n",
      " 8   City               10000 non-null  object \n",
      " 9   Dealer Latitude    10000 non-null  float64\n",
      " 10  Dealer Longitude   10000 non-null  float64\n",
      " 11  Color              10000 non-null  object \n",
      " 12  New Car            10000 non-null  bool   \n",
      " 13  Purchase Date      10000 non-null  object \n",
      " 14  Sale Price         10000 non-null  float64\n",
      " 15  Discount           10000 non-null  float64\n",
      " 16  Resell Price       10000 non-null  float64\n",
      " 17  5-yr Depreciation  10000 non-null  float64\n",
      " 18  Top Speed          10000 non-null  float64\n",
      " 19  0-60 Time          10000 non-null  float64\n",
      "dtypes: bool(1), float64(8), int64(1), object(10)\n",
      "memory usage: 1.5+ MB\n"
     ]
    }
   ],
   "source": [
    "data.info()\n"
   ]
  },
  {
   "cell_type": "code",
   "execution_count": 5,
   "id": "e56789df",
   "metadata": {},
   "outputs": [
    {
     "data": {
      "text/plain": [
       "False"
      ]
     },
     "execution_count": 5,
     "metadata": {},
     "output_type": "execute_result"
    }
   ],
   "source": [
    "data.isnull().values.any()"
   ]
  },
  {
   "cell_type": "markdown",
   "id": "708fc41e",
   "metadata": {},
   "source": [
    "# 3. Plot a bar graph of male vs female buyers participated in the sales.\n"
   ]
  },
  {
   "cell_type": "code",
   "execution_count": 6,
   "id": "b9a59ba8",
   "metadata": {},
   "outputs": [],
   "source": [
    "sns.set_style(\"darkgrid\")\n",
    "plt.rcParams['font.size'] = 14\n",
    "plt.rcParams['figure.figsize'] = (9, 5)\n",
    "plt.rcParams['figure.facecolor'] = '#00000000'\n",
    "%matplotlib inline\n"
   ]
  },
  {
   "cell_type": "code",
   "execution_count": 7,
   "id": "b6fc9c56",
   "metadata": {},
   "outputs": [
    {
     "data": {
      "text/html": [
       "<div>\n",
       "<style scoped>\n",
       "    .dataframe tbody tr th:only-of-type {\n",
       "        vertical-align: middle;\n",
       "    }\n",
       "\n",
       "    .dataframe tbody tr th {\n",
       "        vertical-align: top;\n",
       "    }\n",
       "\n",
       "    .dataframe thead th {\n",
       "        text-align: right;\n",
       "    }\n",
       "</style>\n",
       "<table border=\"1\" class=\"dataframe\">\n",
       "  <thead>\n",
       "    <tr style=\"text-align: right;\">\n",
       "      <th></th>\n",
       "      <th>Make</th>\n",
       "      <th>Model</th>\n",
       "      <th>Nickname</th>\n",
       "      <th>Car Gender</th>\n",
       "      <th>Buyer Gender</th>\n",
       "      <th>Buyer Age</th>\n",
       "      <th>Buzzword</th>\n",
       "      <th>Country</th>\n",
       "      <th>City</th>\n",
       "      <th>Dealer Latitude</th>\n",
       "      <th>Dealer Longitude</th>\n",
       "      <th>Color</th>\n",
       "      <th>New Car</th>\n",
       "      <th>Purchase Date</th>\n",
       "      <th>Sale Price</th>\n",
       "      <th>Discount</th>\n",
       "      <th>Resell Price</th>\n",
       "      <th>5-yr Depreciation</th>\n",
       "      <th>Top Speed</th>\n",
       "      <th>0-60 Time</th>\n",
       "    </tr>\n",
       "  </thead>\n",
       "  <tbody>\n",
       "    <tr>\n",
       "      <th>8042</th>\n",
       "      <td>Jeep</td>\n",
       "      <td>Wrangler</td>\n",
       "      <td>Milt</td>\n",
       "      <td>Male</td>\n",
       "      <td>Male</td>\n",
       "      <td>71</td>\n",
       "      <td>initiative</td>\n",
       "      <td>Poland</td>\n",
       "      <td>Ostaszewo</td>\n",
       "      <td>54.220776</td>\n",
       "      <td>18.970948</td>\n",
       "      <td>Crimson</td>\n",
       "      <td>False</td>\n",
       "      <td>23/05/2014</td>\n",
       "      <td>39752.30</td>\n",
       "      <td>0.0561</td>\n",
       "      <td>47604.47</td>\n",
       "      <td>0.02</td>\n",
       "      <td>195.3</td>\n",
       "      <td>7.2</td>\n",
       "    </tr>\n",
       "    <tr>\n",
       "      <th>4620</th>\n",
       "      <td>Cadillac</td>\n",
       "      <td>Seville</td>\n",
       "      <td>Bartie</td>\n",
       "      <td>Female</td>\n",
       "      <td>Male</td>\n",
       "      <td>39</td>\n",
       "      <td>flexibility</td>\n",
       "      <td>China</td>\n",
       "      <td>Jiahe</td>\n",
       "      <td>25.587519</td>\n",
       "      <td>112.369020</td>\n",
       "      <td>Aquamarine</td>\n",
       "      <td>True</td>\n",
       "      <td>03/12/2017</td>\n",
       "      <td>64187.32</td>\n",
       "      <td>0.0430</td>\n",
       "      <td>23769.83</td>\n",
       "      <td>0.06</td>\n",
       "      <td>137.6</td>\n",
       "      <td>9.8</td>\n",
       "    </tr>\n",
       "    <tr>\n",
       "      <th>7148</th>\n",
       "      <td>Ford</td>\n",
       "      <td>F-Series</td>\n",
       "      <td>Deb</td>\n",
       "      <td>Female</td>\n",
       "      <td>Female</td>\n",
       "      <td>40</td>\n",
       "      <td>firmware</td>\n",
       "      <td>U.S. Virgin Islands</td>\n",
       "      <td>Saint Croix</td>\n",
       "      <td>17.723561</td>\n",
       "      <td>-64.775567</td>\n",
       "      <td>Purple</td>\n",
       "      <td>True</td>\n",
       "      <td>02/08/2019</td>\n",
       "      <td>41508.98</td>\n",
       "      <td>0.1878</td>\n",
       "      <td>2751.58</td>\n",
       "      <td>0.06</td>\n",
       "      <td>146.4</td>\n",
       "      <td>3.4</td>\n",
       "    </tr>\n",
       "    <tr>\n",
       "      <th>6056</th>\n",
       "      <td>GMC</td>\n",
       "      <td>Sierra</td>\n",
       "      <td>Gilly</td>\n",
       "      <td>Male</td>\n",
       "      <td>Female</td>\n",
       "      <td>73</td>\n",
       "      <td>approach</td>\n",
       "      <td>Chile</td>\n",
       "      <td>Longaví</td>\n",
       "      <td>-35.963626</td>\n",
       "      <td>-71.683125</td>\n",
       "      <td>Orange</td>\n",
       "      <td>True</td>\n",
       "      <td>28/07/2003</td>\n",
       "      <td>33676.41</td>\n",
       "      <td>0.6004</td>\n",
       "      <td>17519.08</td>\n",
       "      <td>0.05</td>\n",
       "      <td>219.9</td>\n",
       "      <td>2.3</td>\n",
       "    </tr>\n",
       "    <tr>\n",
       "      <th>2555</th>\n",
       "      <td>Mitsubishi</td>\n",
       "      <td>Galant</td>\n",
       "      <td>Alexa</td>\n",
       "      <td>Male</td>\n",
       "      <td>Female</td>\n",
       "      <td>36</td>\n",
       "      <td>firmware</td>\n",
       "      <td>Tunisia</td>\n",
       "      <td>Banī Khallād</td>\n",
       "      <td>36.647836</td>\n",
       "      <td>10.591507</td>\n",
       "      <td>Orange</td>\n",
       "      <td>False</td>\n",
       "      <td>09/09/2015</td>\n",
       "      <td>78782.26</td>\n",
       "      <td>0.4087</td>\n",
       "      <td>17618.61</td>\n",
       "      <td>0.05</td>\n",
       "      <td>124.1</td>\n",
       "      <td>11.4</td>\n",
       "    </tr>\n",
       "  </tbody>\n",
       "</table>\n",
       "</div>"
      ],
      "text/plain": [
       "            Make     Model Nickname Car Gender Buyer Gender  Buyer Age  \\\n",
       "8042        Jeep  Wrangler     Milt       Male         Male         71   \n",
       "4620    Cadillac   Seville   Bartie     Female         Male         39   \n",
       "7148        Ford  F-Series      Deb     Female       Female         40   \n",
       "6056         GMC    Sierra    Gilly       Male       Female         73   \n",
       "2555  Mitsubishi    Galant    Alexa       Male       Female         36   \n",
       "\n",
       "         Buzzword              Country          City  Dealer Latitude  \\\n",
       "8042   initiative               Poland     Ostaszewo        54.220776   \n",
       "4620  flexibility                China         Jiahe        25.587519   \n",
       "7148     firmware  U.S. Virgin Islands   Saint Croix        17.723561   \n",
       "6056     approach                Chile       Longaví       -35.963626   \n",
       "2555     firmware              Tunisia  Banī Khallād        36.647836   \n",
       "\n",
       "      Dealer Longitude       Color  New Car Purchase Date  Sale Price  \\\n",
       "8042         18.970948     Crimson    False    23/05/2014    39752.30   \n",
       "4620        112.369020  Aquamarine     True    03/12/2017    64187.32   \n",
       "7148        -64.775567      Purple     True    02/08/2019    41508.98   \n",
       "6056        -71.683125      Orange     True    28/07/2003    33676.41   \n",
       "2555         10.591507      Orange    False    09/09/2015    78782.26   \n",
       "\n",
       "      Discount  Resell Price  5-yr Depreciation  Top Speed  0-60 Time  \n",
       "8042    0.0561      47604.47               0.02      195.3        7.2  \n",
       "4620    0.0430      23769.83               0.06      137.6        9.8  \n",
       "7148    0.1878       2751.58               0.06      146.4        3.4  \n",
       "6056    0.6004      17519.08               0.05      219.9        2.3  \n",
       "2555    0.4087      17618.61               0.05      124.1       11.4  "
      ]
     },
     "execution_count": 7,
     "metadata": {},
     "output_type": "execute_result"
    }
   ],
   "source": [
    "data.sample(5)\n"
   ]
  },
  {
   "cell_type": "code",
   "execution_count": 8,
   "id": "1b31f61c",
   "metadata": {},
   "outputs": [
    {
     "data": {
      "text/plain": [
       "Female    5052\n",
       "Male      4948\n",
       "Name: Buyer Gender, dtype: int64"
      ]
     },
     "execution_count": 8,
     "metadata": {},
     "output_type": "execute_result"
    }
   ],
   "source": [
    "data['Buyer Gender'].value_counts()\n"
   ]
  },
  {
   "cell_type": "code",
   "execution_count": 9,
   "id": "bb01371f",
   "metadata": {},
   "outputs": [
    {
     "data": {
      "image/png": "[encoded data removed]",
      "text/plain": [
       "<Figure size 432x288 with 1 Axes>"
      ]
     },
     "metadata": {
      "needs_background": "light"
     },
     "output_type": "display_data"
    }
   ],
   "source": [
    "data['Buyer Gender'].value_counts().plot(kind=\"bar\")\n",
    "plt.xlabel(\"Gender\", labelpad=14)\n",
    "plt.ylabel(\"Count of People\", labelpad=14)\n",
    "plt.title(\"Count of people who participated in sales by gender\", y=1.02)\n",
    "plt.ylim(4500,5500);"
   ]
  },
  {
   "cell_type": "markdown",
   "id": "82e2af61",
   "metadata": {},
   "source": [
    "# 4. Find the top 5 cars based on their sales price. "
   ]
  },
  {
   "cell_type": "code",
   "execution_count": 10,
   "id": "6f1df1ea",
   "metadata": {},
   "outputs": [
    {
     "name": "stdout",
     "output_type": "stream",
     "text": [
      "Top 5 cars based on their sales price\n"
     ]
    },
    {
     "data": {
      "text/html": [
       "<style  type=\"text/css\" >\n",
       "</style><table id=\"T_7e895_\" ><thead>    <tr>        <th class=\"col_heading level0 col0\" >Make</th>        <th class=\"col_heading level0 col1\" >Model</th>        <th class=\"col_heading level0 col2\" >Sale Price</th>    </tr></thead><tbody>\n",
       "                <tr>\n",
       "                                <td id=\"T_7e895_row0_col0\" class=\"data row0 col0\" >Volkswagen</td>\n",
       "                        <td id=\"T_7e895_row0_col1\" class=\"data row0 col1\" >Jetta III</td>\n",
       "                        <td id=\"T_7e895_row0_col2\" class=\"data row0 col2\" >99997.650000</td>\n",
       "            </tr>\n",
       "            <tr>\n",
       "                                <td id=\"T_7e895_row1_col0\" class=\"data row1 col0\" >Audi</td>\n",
       "                        <td id=\"T_7e895_row1_col1\" class=\"data row1 col1\" >A6</td>\n",
       "                        <td id=\"T_7e895_row1_col2\" class=\"data row1 col2\" >99991.910000</td>\n",
       "            </tr>\n",
       "            <tr>\n",
       "                                <td id=\"T_7e895_row2_col0\" class=\"data row2 col0\" >Lexus</td>\n",
       "                        <td id=\"T_7e895_row2_col1\" class=\"data row2 col1\" >LX</td>\n",
       "                        <td id=\"T_7e895_row2_col2\" class=\"data row2 col2\" >99983.380000</td>\n",
       "            </tr>\n",
       "            <tr>\n",
       "                                <td id=\"T_7e895_row3_col0\" class=\"data row3 col0\" >Mazda</td>\n",
       "                        <td id=\"T_7e895_row3_col1\" class=\"data row3 col1\" >MX-6</td>\n",
       "                        <td id=\"T_7e895_row3_col2\" class=\"data row3 col2\" >99978.170000</td>\n",
       "            </tr>\n",
       "            <tr>\n",
       "                                <td id=\"T_7e895_row4_col0\" class=\"data row4 col0\" >Lexus</td>\n",
       "                        <td id=\"T_7e895_row4_col1\" class=\"data row4 col1\" >ES</td>\n",
       "                        <td id=\"T_7e895_row4_col2\" class=\"data row4 col2\" >99973.440000</td>\n",
       "            </tr>\n",
       "    </tbody></table>"
      ],
      "text/plain": [
       "<pandas.io.formats.style.Styler at 0x21d154cdca0>"
      ]
     },
     "execution_count": 10,
     "metadata": {},
     "output_type": "execute_result"
    }
   ],
   "source": [
    "data1=data.sort_values(by='Sale Price',ascending=False).head(5)\n",
    "\n",
    "print(\"Top 5 cars based on their sales price\")\n",
    "\n",
    "data1[[\"Make\",\"Model\",\"Sale Price\"]].style.hide_index()\n"
   ]
  },
  {
   "cell_type": "markdown",
   "id": "f81a87fd",
   "metadata": {},
   "source": [
    "# 5. Find the least 5 cars based on their Resell price\n"
   ]
  },
  {
   "cell_type": "code",
   "execution_count": 11,
   "id": "4c1327dc",
   "metadata": {},
   "outputs": [
    {
     "name": "stdout",
     "output_type": "stream",
     "text": [
      "Least 5 cars based on their Resell price\n"
     ]
    },
    {
     "data": {
      "text/html": [
       "<style  type=\"text/css\" >\n",
       "</style><table id=\"T_65406_\" ><thead>    <tr>        <th class=\"col_heading level0 col0\" >Make</th>        <th class=\"col_heading level0 col1\" >Model</th>        <th class=\"col_heading level0 col2\" >Resell Price</th>    </tr></thead><tbody>\n",
       "                <tr>\n",
       "                                <td id=\"T_65406_row0_col0\" class=\"data row0 col0\" >Chevrolet</td>\n",
       "                        <td id=\"T_65406_row0_col1\" class=\"data row0 col1\" >1500</td>\n",
       "                        <td id=\"T_65406_row0_col2\" class=\"data row0 col2\" >2000.840000</td>\n",
       "            </tr>\n",
       "            <tr>\n",
       "                                <td id=\"T_65406_row1_col0\" class=\"data row1 col0\" >GMC</td>\n",
       "                        <td id=\"T_65406_row1_col1\" class=\"data row1 col1\" >Savana 1500</td>\n",
       "                        <td id=\"T_65406_row1_col2\" class=\"data row1 col2\" >2005.440000</td>\n",
       "            </tr>\n",
       "            <tr>\n",
       "                                <td id=\"T_65406_row2_col0\" class=\"data row2 col0\" >Jaguar</td>\n",
       "                        <td id=\"T_65406_row2_col1\" class=\"data row2 col1\" >XF</td>\n",
       "                        <td id=\"T_65406_row2_col2\" class=\"data row2 col2\" >2014.090000</td>\n",
       "            </tr>\n",
       "            <tr>\n",
       "                                <td id=\"T_65406_row3_col0\" class=\"data row3 col0\" >Mitsubishi</td>\n",
       "                        <td id=\"T_65406_row3_col1\" class=\"data row3 col1\" >3000GT</td>\n",
       "                        <td id=\"T_65406_row3_col2\" class=\"data row3 col2\" >2017.240000</td>\n",
       "            </tr>\n",
       "            <tr>\n",
       "                                <td id=\"T_65406_row4_col0\" class=\"data row4 col0\" >Infiniti</td>\n",
       "                        <td id=\"T_65406_row4_col1\" class=\"data row4 col1\" >G37</td>\n",
       "                        <td id=\"T_65406_row4_col2\" class=\"data row4 col2\" >2017.830000</td>\n",
       "            </tr>\n",
       "    </tbody></table>"
      ],
      "text/plain": [
       "<pandas.io.formats.style.Styler at 0x21d159707f0>"
      ]
     },
     "execution_count": 11,
     "metadata": {},
     "output_type": "execute_result"
    }
   ],
   "source": [
    "data2=data.sort_values(by='Resell Price').head(5)\n",
    "\n",
    "print(\"Least 5 cars based on their Resell price\")\n",
    "\n",
    "data2[[\"Make\",\"Model\",\"Resell Price\"]].style.hide_index()"
   ]
  },
  {
   "cell_type": "code",
   "execution_count": null,
   "id": "33568dec",
   "metadata": {},
   "outputs": [],
   "source": []
  }
 ],
 "metadata": {
  "kernelspec": {
   "display_name": "Python 3",
   "language": "python",
   "name": "python3"
  },
  "language_info": {
   "codemirror_mode": {
    "name": "ipython",
    "version": 3
   },
   "file_extension": ".py",
   "mimetype": "text/x-python",
   "name": "python",
   "nbconvert_exporter": "python",
   "pygments_lexer": "ipython3",
   "version": "3.8.8"
  }
 },
 "nbformat": 4,
 "nbformat_minor": 5
}
